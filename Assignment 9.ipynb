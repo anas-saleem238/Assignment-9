{
 "cells": [
  {
   "cell_type": "code",
   "execution_count": 1,
   "id": "70e113ae-0e17-4db8-9d26-97597d40e735",
   "metadata": {},
   "outputs": [],
   "source": [
    "import numpy as np "
   ]
  },
  {
   "cell_type": "code",
   "execution_count": 3,
   "id": "97dec8e1-dd2f-4aaa-b101-fbf3328b051b",
   "metadata": {},
   "outputs": [
    {
     "name": "stdout",
     "output_type": "stream",
     "text": [
      "Array: [1 2 3 4 5]\n"
     ]
    }
   ],
   "source": [
    "arr = np.array([1,2,3,4,5])\n",
    "print(\"Array:\", arr)"
   ]
  },
  {
   "cell_type": "markdown",
   "id": "351b3f2a-2f8d-4c0c-8551-ec7fd0d8f2e8",
   "metadata": {},
   "source": [
    "### Addition ---->"
   ]
  },
  {
   "cell_type": "code",
   "execution_count": 13,
   "id": "62cf311c-f98c-4ec6-8d04-c8dc855383af",
   "metadata": {},
   "outputs": [
    {
     "data": {
      "text/plain": [
       "array([3, 4, 5, 6, 7])"
      ]
     },
     "execution_count": 13,
     "metadata": {},
     "output_type": "execute_result"
    }
   ],
   "source": [
    "add_arr = arr + 2\n",
    "add_arr"
   ]
  },
  {
   "cell_type": "markdown",
   "id": "876d478d-9158-4826-b13d-5d4908449a5d",
   "metadata": {},
   "source": [
    "### Subtraction ---->"
   ]
  },
  {
   "cell_type": "code",
   "execution_count": 9,
   "id": "1426d3db-8ef8-4d46-bdeb-3b06306f4e09",
   "metadata": {},
   "outputs": [
    {
     "data": {
      "text/plain": [
       "array([-1,  0,  1,  2,  3])"
      ]
     },
     "execution_count": 9,
     "metadata": {},
     "output_type": "execute_result"
    }
   ],
   "source": [
    "sub_arr = arr - 2\n",
    "sub_arr"
   ]
  },
  {
   "cell_type": "markdown",
   "id": "7fbf97f1-2dde-452e-87f7-034ec0da6393",
   "metadata": {},
   "source": [
    "### Multiplication ---->"
   ]
  },
  {
   "cell_type": "code",
   "execution_count": 16,
   "id": "94fe43e5-d17b-48d1-957d-e58fa5d34846",
   "metadata": {},
   "outputs": [
    {
     "data": {
      "text/plain": [
       "array([ 2,  4,  6,  8, 10])"
      ]
     },
     "execution_count": 16,
     "metadata": {},
     "output_type": "execute_result"
    }
   ],
   "source": [
    "mul_arr = arr * 2\n",
    "mul_arr"
   ]
  },
  {
   "cell_type": "markdown",
   "id": "c3bc3ae0-7c80-49a8-a2c2-eeac61d0c42c",
   "metadata": {},
   "source": [
    "### Division ---->"
   ]
  },
  {
   "cell_type": "code",
   "execution_count": 26,
   "id": "3ee24ba6-baa8-4f20-8f6e-e1deab674602",
   "metadata": {},
   "outputs": [
    {
     "data": {
      "text/plain": [
       "array([0.5, 1. , 1.5, 2. , 2.5])"
      ]
     },
     "execution_count": 26,
     "metadata": {},
     "output_type": "execute_result"
    }
   ],
   "source": [
    "div_arr = arr / 2\n",
    "div_arr"
   ]
  },
  {
   "cell_type": "markdown",
   "id": "b8b9e419-f540-4d20-8c46-1d041d93726a",
   "metadata": {},
   "source": [
    "### Indexing & Slicing ---->"
   ]
  },
  {
   "cell_type": "code",
   "execution_count": 33,
   "id": "1ee248f0-ff02-4687-8f10-18e8fb9d2dc0",
   "metadata": {},
   "outputs": [
    {
     "name": "stdout",
     "output_type": "stream",
     "text": [
      "Element_1: 2\n",
      "Element_2: 3\n",
      "Slicing Array: [3 4]\n"
     ]
    }
   ],
   "source": [
    "element1 = arr[1]\n",
    "element2 = arr[2]\n",
    "\n",
    "print(\"Element_1:\", element1)\n",
    "print(\"Element_2:\", element2)\n",
    "\n",
    "slice = arr[2:4]\n",
    "print(\"Slicing Array:\", slice)"
   ]
  },
  {
   "cell_type": "markdown",
   "id": "30e3e2b4-2268-4343-9fa9-8862d2f24489",
   "metadata": {},
   "source": [
    "### Reshaping Array ---->"
   ]
  },
  {
   "cell_type": "code",
   "execution_count": 49,
   "id": "728887e7-0ccf-44a5-a4f8-79d7849ed621",
   "metadata": {},
   "outputs": [
    {
     "name": "stdout",
     "output_type": "stream",
     "text": [
      "[[1]\n",
      " [2]\n",
      " [3]\n",
      " [4]\n",
      " [5]]\n"
     ]
    }
   ],
   "source": [
    "reshape_arr = arr.reshape(5,1)\n",
    "print(reshape_arr)"
   ]
  },
  {
   "cell_type": "markdown",
   "id": "4ea908a2-a78d-41a0-9e73-383accfd8af5",
   "metadata": {},
   "source": [
    "### Transposing Matrices ---->"
   ]
  },
  {
   "cell_type": "code",
   "execution_count": 54,
   "id": "5b56044d-4600-4f7a-828c-ff17f293c44e",
   "metadata": {},
   "outputs": [
    {
     "name": "stdout",
     "output_type": "stream",
     "text": [
      "Transposed Array:  [[1 2 3 4 5]]\n"
     ]
    }
   ],
   "source": [
    "transpose_arr = reshape_arr.T\n",
    "print(\"Transposed Array: \", transpose_arr)"
   ]
  },
  {
   "cell_type": "markdown",
   "id": "dc685b6f-389b-4c0a-aa30-81e023b96688",
   "metadata": {},
   "source": [
    "### Statistical Functions ---->"
   ]
  },
  {
   "cell_type": "code",
   "execution_count": 57,
   "id": "db6fbe3a-3df4-474b-a20b-5fa1feebe731",
   "metadata": {},
   "outputs": [
    {
     "data": {
      "text/plain": [
       "3.0"
      ]
     },
     "execution_count": 57,
     "metadata": {},
     "output_type": "execute_result"
    }
   ],
   "source": [
    "mean = np.mean(arr)\n",
    "mean"
   ]
  },
  {
   "cell_type": "code",
   "execution_count": 61,
   "id": "c71a5bb0-99e2-4386-88ea-ce4e2917e9fe",
   "metadata": {},
   "outputs": [
    {
     "data": {
      "text/plain": [
       "3.0"
      ]
     },
     "execution_count": 61,
     "metadata": {},
     "output_type": "execute_result"
    }
   ],
   "source": [
    "median = np.median(arr)\n",
    "median"
   ]
  },
  {
   "cell_type": "code",
   "execution_count": 63,
   "id": "49e691a1-9b6b-4051-908f-fb82b5f46ddd",
   "metadata": {},
   "outputs": [
    {
     "data": {
      "text/plain": [
       "1.4142135623730951"
      ]
     },
     "execution_count": 63,
     "metadata": {},
     "output_type": "execute_result"
    }
   ],
   "source": [
    "std_dev = np.std(arr)\n",
    "std_dev\n"
   ]
  },
  {
   "cell_type": "code",
   "execution_count": 65,
   "id": "64393afc-adb9-41c7-8418-0f3d42ad479f",
   "metadata": {},
   "outputs": [
    {
     "data": {
      "text/plain": [
       "2.0"
      ]
     },
     "execution_count": 65,
     "metadata": {},
     "output_type": "execute_result"
    }
   ],
   "source": [
    "var = np.var(arr)\n",
    "var"
   ]
  },
  {
   "cell_type": "markdown",
   "id": "c2aeaae5-072d-4c51-bf01-b4ec6f30a38f",
   "metadata": {},
   "source": [
    "### Data Types In Arrays ---->"
   ]
  },
  {
   "cell_type": "code",
   "execution_count": 90,
   "id": "2087944e-c0a2-4511-bdf0-394fc8857628",
   "metadata": {},
   "outputs": [
    {
     "name": "stdout",
     "output_type": "stream",
     "text": [
      "Integer:  [1 2 3 4 5]\n"
     ]
    }
   ],
   "source": [
    "int_arr = np.array(arr, dtype=int)\n",
    "print(\"Integer: \",int_arr)"
   ]
  },
  {
   "cell_type": "code",
   "execution_count": 82,
   "id": "26224a0d-3172-4dbb-8069-c43fc8fca801",
   "metadata": {},
   "outputs": [
    {
     "name": "stdout",
     "output_type": "stream",
     "text": [
      "float: [1. 2. 3. 4. 5.]\n"
     ]
    }
   ],
   "source": [
    "float_arr = np.array(arr, dtype=float)\n",
    "print(\"float:\",float_arr)"
   ]
  },
  {
   "cell_type": "code",
   "execution_count": 84,
   "id": "7a4cb970-e941-48a8-92e1-67cdcdb679c6",
   "metadata": {},
   "outputs": [
    {
     "name": "stdout",
     "output_type": "stream",
     "text": [
      "Boolean:  [ True  True  True  True  True]\n"
     ]
    }
   ],
   "source": [
    "bool_arr= np.array(arr, dtype=bool)\n",
    "print(\"Boolean: \",bool_arr)"
   ]
  },
  {
   "cell_type": "code",
   "execution_count": 88,
   "id": "bab37b26-b064-4104-9234-900f7c050b06",
   "metadata": {},
   "outputs": [
    {
     "name": "stdout",
     "output_type": "stream",
     "text": [
      "String:  ['1' '2' '3' '4' '5']\n"
     ]
    }
   ],
   "source": [
    "str_arr = np.array(arr, dtype=str)\n",
    "print(\"String: \",str_arr)"
   ]
  },
  {
   "cell_type": "markdown",
   "id": "2c6e5b4b-3e6d-4c59-8088-6a412a576930",
   "metadata": {},
   "source": [
    "### Concatenating Array ---->"
   ]
  },
  {
   "cell_type": "code",
   "execution_count": 95,
   "id": "db082b0e-d772-48ea-aa79-5fd8f3cf2603",
   "metadata": {},
   "outputs": [
    {
     "name": "stdout",
     "output_type": "stream",
     "text": [
      "Concatenated Array: [1 2 3 4 5 6]\n"
     ]
    }
   ],
   "source": [
    "arr1 = np.array([1, 2, 3])\n",
    "arr2 = np.array([4, 5, 6])\n",
    "concatenated_arr = np.concatenate((arr1, arr2))\n",
    "print(\"Concatenated Array:\", concatenated_arr)"
   ]
  },
  {
   "cell_type": "markdown",
   "id": "b513d77e-d9a2-4129-8d5d-6e39fc59c13f",
   "metadata": {},
   "source": [
    "### Sorting Arrays ---->"
   ]
  },
  {
   "cell_type": "code",
   "execution_count": 98,
   "id": "ac624896-f965-4c69-85c4-672516c89e3f",
   "metadata": {},
   "outputs": [
    {
     "name": "stdout",
     "output_type": "stream",
     "text": [
      "Sorted Array (Ascending): [1 2 3 4 5]\n",
      "Sorted Array (Descending): [5 4 3 2 1]\n"
     ]
    }
   ],
   "source": [
    "unsorted_array = np.array([3, 1, 2, 5, 4])\n",
    "sorted_array_asc = np.sort(unsorted_array)  \n",
    "sorted_array_desc = np.sort(unsorted_array)[::-1]  \n",
    "\n",
    "print(\"Sorted Array (Ascending):\", sorted_array_asc)\n",
    "print(\"Sorted Array (Descending):\", sorted_array_desc)"
   ]
  },
  {
   "cell_type": "code",
   "execution_count": 1,
   "id": "3897070c-25f4-4ee8-81c5-10c08e5f4fc9",
   "metadata": {},
   "outputs": [],
   "source": [
    "import pandas as pd"
   ]
  },
  {
   "cell_type": "code",
   "execution_count": 3,
   "id": "0a7bdea0-7399-48a8-94f9-75526abfd320",
   "metadata": {},
   "outputs": [
    {
     "data": {
      "text/html": [
       "<div>\n",
       "<style scoped>\n",
       "    .dataframe tbody tr th:only-of-type {\n",
       "        vertical-align: middle;\n",
       "    }\n",
       "\n",
       "    .dataframe tbody tr th {\n",
       "        vertical-align: top;\n",
       "    }\n",
       "\n",
       "    .dataframe thead th {\n",
       "        text-align: right;\n",
       "    }\n",
       "</style>\n",
       "<table border=\"1\" class=\"dataframe\">\n",
       "  <thead>\n",
       "    <tr style=\"text-align: right;\">\n",
       "      <th></th>\n",
       "      <th>roll no</th>\n",
       "      <th>Name</th>\n",
       "      <th>Chemistry</th>\n",
       "      <th>Physics</th>\n",
       "      <th>Math</th>\n",
       "    </tr>\n",
       "  </thead>\n",
       "  <tbody>\n",
       "    <tr>\n",
       "      <th>0</th>\n",
       "      <td>101</td>\n",
       "      <td>Aliza</td>\n",
       "      <td>50</td>\n",
       "      <td>23</td>\n",
       "      <td>87</td>\n",
       "    </tr>\n",
       "    <tr>\n",
       "      <th>1</th>\n",
       "      <td>102</td>\n",
       "      <td>Fareed</td>\n",
       "      <td>45</td>\n",
       "      <td>24</td>\n",
       "      <td>88</td>\n",
       "    </tr>\n",
       "    <tr>\n",
       "      <th>2</th>\n",
       "      <td>103</td>\n",
       "      <td>Basit</td>\n",
       "      <td>46</td>\n",
       "      <td>25</td>\n",
       "      <td>89</td>\n",
       "    </tr>\n",
       "    <tr>\n",
       "      <th>3</th>\n",
       "      <td>104</td>\n",
       "      <td>Abdullah</td>\n",
       "      <td>47</td>\n",
       "      <td>26</td>\n",
       "      <td>90</td>\n",
       "    </tr>\n",
       "    <tr>\n",
       "      <th>4</th>\n",
       "      <td>105</td>\n",
       "      <td>Ali</td>\n",
       "      <td>48</td>\n",
       "      <td>27</td>\n",
       "      <td>67</td>\n",
       "    </tr>\n",
       "    <tr>\n",
       "      <th>5</th>\n",
       "      <td>106</td>\n",
       "      <td>Mubashir</td>\n",
       "      <td>49</td>\n",
       "      <td>28</td>\n",
       "      <td>68</td>\n",
       "    </tr>\n",
       "    <tr>\n",
       "      <th>6</th>\n",
       "      <td>107</td>\n",
       "      <td>Waleed</td>\n",
       "      <td>50</td>\n",
       "      <td>29</td>\n",
       "      <td>69</td>\n",
       "    </tr>\n",
       "    <tr>\n",
       "      <th>7</th>\n",
       "      <td>108</td>\n",
       "      <td>Mansoor</td>\n",
       "      <td>51</td>\n",
       "      <td>30</td>\n",
       "      <td>70</td>\n",
       "    </tr>\n",
       "    <tr>\n",
       "      <th>8</th>\n",
       "      <td>109</td>\n",
       "      <td>Zain</td>\n",
       "      <td>52</td>\n",
       "      <td>31</td>\n",
       "      <td>71</td>\n",
       "    </tr>\n",
       "    <tr>\n",
       "      <th>9</th>\n",
       "      <td>110</td>\n",
       "      <td>Mohsin</td>\n",
       "      <td>53</td>\n",
       "      <td>67</td>\n",
       "      <td>72</td>\n",
       "    </tr>\n",
       "    <tr>\n",
       "      <th>10</th>\n",
       "      <td>111</td>\n",
       "      <td>Shahmeer</td>\n",
       "      <td>54</td>\n",
       "      <td>68</td>\n",
       "      <td>73</td>\n",
       "    </tr>\n",
       "    <tr>\n",
       "      <th>11</th>\n",
       "      <td>112</td>\n",
       "      <td>Rao</td>\n",
       "      <td>55</td>\n",
       "      <td>69</td>\n",
       "      <td>74</td>\n",
       "    </tr>\n",
       "    <tr>\n",
       "      <th>12</th>\n",
       "      <td>113</td>\n",
       "      <td>Aurangzeb</td>\n",
       "      <td>56</td>\n",
       "      <td>70</td>\n",
       "      <td>75</td>\n",
       "    </tr>\n",
       "    <tr>\n",
       "      <th>13</th>\n",
       "      <td>114</td>\n",
       "      <td>Zeeshan</td>\n",
       "      <td>57</td>\n",
       "      <td>71</td>\n",
       "      <td>76</td>\n",
       "    </tr>\n",
       "    <tr>\n",
       "      <th>14</th>\n",
       "      <td>115</td>\n",
       "      <td>Hamna</td>\n",
       "      <td>58</td>\n",
       "      <td>72</td>\n",
       "      <td>77</td>\n",
       "    </tr>\n",
       "    <tr>\n",
       "      <th>15</th>\n",
       "      <td>116</td>\n",
       "      <td>Hamza</td>\n",
       "      <td>59</td>\n",
       "      <td>73</td>\n",
       "      <td>78</td>\n",
       "    </tr>\n",
       "    <tr>\n",
       "      <th>16</th>\n",
       "      <td>117</td>\n",
       "      <td>Khalid</td>\n",
       "      <td>60</td>\n",
       "      <td>74</td>\n",
       "      <td>79</td>\n",
       "    </tr>\n",
       "    <tr>\n",
       "      <th>17</th>\n",
       "      <td>118</td>\n",
       "      <td>Behroz</td>\n",
       "      <td>61</td>\n",
       "      <td>75</td>\n",
       "      <td>80</td>\n",
       "    </tr>\n",
       "    <tr>\n",
       "      <th>18</th>\n",
       "      <td>119</td>\n",
       "      <td>Justin</td>\n",
       "      <td>62</td>\n",
       "      <td>76</td>\n",
       "      <td>81</td>\n",
       "    </tr>\n",
       "    <tr>\n",
       "      <th>19</th>\n",
       "      <td>120</td>\n",
       "      <td>Danish</td>\n",
       "      <td>63</td>\n",
       "      <td>77</td>\n",
       "      <td>82</td>\n",
       "    </tr>\n",
       "    <tr>\n",
       "      <th>20</th>\n",
       "      <td>121</td>\n",
       "      <td>Kainat</td>\n",
       "      <td>64</td>\n",
       "      <td>78</td>\n",
       "      <td>83</td>\n",
       "    </tr>\n",
       "    <tr>\n",
       "      <th>21</th>\n",
       "      <td>122</td>\n",
       "      <td>Sameer</td>\n",
       "      <td>65</td>\n",
       "      <td>79</td>\n",
       "      <td>84</td>\n",
       "    </tr>\n",
       "    <tr>\n",
       "      <th>22</th>\n",
       "      <td>123</td>\n",
       "      <td>Raza</td>\n",
       "      <td>66</td>\n",
       "      <td>80</td>\n",
       "      <td>85</td>\n",
       "    </tr>\n",
       "    <tr>\n",
       "      <th>23</th>\n",
       "      <td>124</td>\n",
       "      <td>Kumar</td>\n",
       "      <td>67</td>\n",
       "      <td>81</td>\n",
       "      <td>86</td>\n",
       "    </tr>\n",
       "    <tr>\n",
       "      <th>24</th>\n",
       "      <td>125</td>\n",
       "      <td>Komal</td>\n",
       "      <td>68</td>\n",
       "      <td>82</td>\n",
       "      <td>87</td>\n",
       "    </tr>\n",
       "    <tr>\n",
       "      <th>25</th>\n",
       "      <td>126</td>\n",
       "      <td>Erum</td>\n",
       "      <td>69</td>\n",
       "      <td>83</td>\n",
       "      <td>88</td>\n",
       "    </tr>\n",
       "    <tr>\n",
       "      <th>26</th>\n",
       "      <td>127</td>\n",
       "      <td>Faiza</td>\n",
       "      <td>70</td>\n",
       "      <td>84</td>\n",
       "      <td>89</td>\n",
       "    </tr>\n",
       "    <tr>\n",
       "      <th>27</th>\n",
       "      <td>128</td>\n",
       "      <td>Saeed</td>\n",
       "      <td>71</td>\n",
       "      <td>85</td>\n",
       "      <td>90</td>\n",
       "    </tr>\n",
       "    <tr>\n",
       "      <th>28</th>\n",
       "      <td>129</td>\n",
       "      <td>Waqar</td>\n",
       "      <td>72</td>\n",
       "      <td>86</td>\n",
       "      <td>91</td>\n",
       "    </tr>\n",
       "    <tr>\n",
       "      <th>29</th>\n",
       "      <td>130</td>\n",
       "      <td>Wali</td>\n",
       "      <td>73</td>\n",
       "      <td>87</td>\n",
       "      <td>92</td>\n",
       "    </tr>\n",
       "    <tr>\n",
       "      <th>30</th>\n",
       "      <td>131</td>\n",
       "      <td>Wajid</td>\n",
       "      <td>74</td>\n",
       "      <td>88</td>\n",
       "      <td>93</td>\n",
       "    </tr>\n",
       "    <tr>\n",
       "      <th>31</th>\n",
       "      <td>132</td>\n",
       "      <td>Waseeb</td>\n",
       "      <td>75</td>\n",
       "      <td>89</td>\n",
       "      <td>94</td>\n",
       "    </tr>\n",
       "    <tr>\n",
       "      <th>32</th>\n",
       "      <td>133</td>\n",
       "      <td>Shiza</td>\n",
       "      <td>76</td>\n",
       "      <td>90</td>\n",
       "      <td>95</td>\n",
       "    </tr>\n",
       "    <tr>\n",
       "      <th>33</th>\n",
       "      <td>134</td>\n",
       "      <td>Shabina</td>\n",
       "      <td>77</td>\n",
       "      <td>91</td>\n",
       "      <td>96</td>\n",
       "    </tr>\n",
       "    <tr>\n",
       "      <th>34</th>\n",
       "      <td>135</td>\n",
       "      <td>Shazain</td>\n",
       "      <td>78</td>\n",
       "      <td>55</td>\n",
       "      <td>97</td>\n",
       "    </tr>\n",
       "    <tr>\n",
       "      <th>35</th>\n",
       "      <td>136</td>\n",
       "      <td>Lubna</td>\n",
       "      <td>79</td>\n",
       "      <td>61</td>\n",
       "      <td>98</td>\n",
       "    </tr>\n",
       "    <tr>\n",
       "      <th>36</th>\n",
       "      <td>137</td>\n",
       "      <td>Laiba</td>\n",
       "      <td>80</td>\n",
       "      <td>88</td>\n",
       "      <td>78</td>\n",
       "    </tr>\n",
       "    <tr>\n",
       "      <th>37</th>\n",
       "      <td>138</td>\n",
       "      <td>Khursheed</td>\n",
       "      <td>81</td>\n",
       "      <td>56</td>\n",
       "      <td>45</td>\n",
       "    </tr>\n",
       "    <tr>\n",
       "      <th>38</th>\n",
       "      <td>139</td>\n",
       "      <td>Ali</td>\n",
       "      <td>82</td>\n",
       "      <td>89</td>\n",
       "      <td>46</td>\n",
       "    </tr>\n",
       "    <tr>\n",
       "      <th>39</th>\n",
       "      <td>140</td>\n",
       "      <td>Aiza</td>\n",
       "      <td>83</td>\n",
       "      <td>45</td>\n",
       "      <td>89</td>\n",
       "    </tr>\n",
       "    <tr>\n",
       "      <th>40</th>\n",
       "      <td>141</td>\n",
       "      <td>Aiman</td>\n",
       "      <td>84</td>\n",
       "      <td>92</td>\n",
       "      <td>78</td>\n",
       "    </tr>\n",
       "    <tr>\n",
       "      <th>41</th>\n",
       "      <td>142</td>\n",
       "      <td>Yasmeen</td>\n",
       "      <td>85</td>\n",
       "      <td>36</td>\n",
       "      <td>56</td>\n",
       "    </tr>\n",
       "    <tr>\n",
       "      <th>42</th>\n",
       "      <td>143</td>\n",
       "      <td>Tasbeel</td>\n",
       "      <td>86</td>\n",
       "      <td>78</td>\n",
       "      <td>78</td>\n",
       "    </tr>\n",
       "    <tr>\n",
       "      <th>43</th>\n",
       "      <td>144</td>\n",
       "      <td>Laraib</td>\n",
       "      <td>87</td>\n",
       "      <td>56</td>\n",
       "      <td>54</td>\n",
       "    </tr>\n",
       "    <tr>\n",
       "      <th>44</th>\n",
       "      <td>145</td>\n",
       "      <td>Saleem</td>\n",
       "      <td>88</td>\n",
       "      <td>78</td>\n",
       "      <td>78</td>\n",
       "    </tr>\n",
       "    <tr>\n",
       "      <th>45</th>\n",
       "      <td>146</td>\n",
       "      <td>Bismil</td>\n",
       "      <td>89</td>\n",
       "      <td>89</td>\n",
       "      <td>46</td>\n",
       "    </tr>\n",
       "    <tr>\n",
       "      <th>46</th>\n",
       "      <td>147</td>\n",
       "      <td>Batool</td>\n",
       "      <td>90</td>\n",
       "      <td>56</td>\n",
       "      <td>79</td>\n",
       "    </tr>\n",
       "    <tr>\n",
       "      <th>47</th>\n",
       "      <td>148</td>\n",
       "      <td>Iqra</td>\n",
       "      <td>91</td>\n",
       "      <td>33</td>\n",
       "      <td>46</td>\n",
       "    </tr>\n",
       "    <tr>\n",
       "      <th>48</th>\n",
       "      <td>149</td>\n",
       "      <td>Zarnish</td>\n",
       "      <td>92</td>\n",
       "      <td>78</td>\n",
       "      <td>45</td>\n",
       "    </tr>\n",
       "    <tr>\n",
       "      <th>49</th>\n",
       "      <td>150</td>\n",
       "      <td>Zara</td>\n",
       "      <td>83</td>\n",
       "      <td>45</td>\n",
       "      <td>56</td>\n",
       "    </tr>\n",
       "  </tbody>\n",
       "</table>\n",
       "</div>"
      ],
      "text/plain": [
       "    roll no       Name  Chemistry  Physics  Math\n",
       "0       101      Aliza         50       23    87\n",
       "1       102     Fareed         45       24    88\n",
       "2       103      Basit         46       25    89\n",
       "3       104   Abdullah         47       26    90\n",
       "4       105        Ali         48       27    67\n",
       "5       106   Mubashir         49       28    68\n",
       "6       107     Waleed         50       29    69\n",
       "7       108    Mansoor         51       30    70\n",
       "8       109       Zain         52       31    71\n",
       "9       110     Mohsin         53       67    72\n",
       "10      111   Shahmeer         54       68    73\n",
       "11      112        Rao         55       69    74\n",
       "12      113  Aurangzeb         56       70    75\n",
       "13      114    Zeeshan         57       71    76\n",
       "14      115      Hamna         58       72    77\n",
       "15      116      Hamza         59       73    78\n",
       "16      117     Khalid         60       74    79\n",
       "17      118     Behroz         61       75    80\n",
       "18      119     Justin         62       76    81\n",
       "19      120     Danish         63       77    82\n",
       "20      121     Kainat         64       78    83\n",
       "21      122     Sameer         65       79    84\n",
       "22      123       Raza         66       80    85\n",
       "23      124      Kumar         67       81    86\n",
       "24      125      Komal         68       82    87\n",
       "25      126       Erum         69       83    88\n",
       "26      127      Faiza         70       84    89\n",
       "27      128      Saeed         71       85    90\n",
       "28      129      Waqar         72       86    91\n",
       "29      130       Wali         73       87    92\n",
       "30      131      Wajid         74       88    93\n",
       "31      132     Waseeb         75       89    94\n",
       "32      133      Shiza         76       90    95\n",
       "33      134    Shabina         77       91    96\n",
       "34      135    Shazain         78       55    97\n",
       "35      136      Lubna         79       61    98\n",
       "36      137      Laiba         80       88    78\n",
       "37      138  Khursheed         81       56    45\n",
       "38      139        Ali         82       89    46\n",
       "39      140       Aiza         83       45    89\n",
       "40      141      Aiman         84       92    78\n",
       "41      142    Yasmeen         85       36    56\n",
       "42      143    Tasbeel         86       78    78\n",
       "43      144     Laraib         87       56    54\n",
       "44      145     Saleem         88       78    78\n",
       "45      146     Bismil         89       89    46\n",
       "46      147     Batool         90       56    79\n",
       "47      148       Iqra         91       33    46\n",
       "48      149    Zarnish         92       78    45\n",
       "49      150       Zara         83       45    56"
      ]
     },
     "execution_count": 3,
     "metadata": {},
     "output_type": "execute_result"
    }
   ],
   "source": [
    "data_csv = pd.read_csv(\"student data.csv\")\n",
    "data_csv"
   ]
  },
  {
   "cell_type": "code",
   "execution_count": 7,
   "id": "f9ff3a28-68b7-4c80-95a4-9d1720d432f7",
   "metadata": {},
   "outputs": [
    {
     "name": "stdout",
     "output_type": "stream",
     "text": [
      "(50, 5)\n"
     ]
    }
   ],
   "source": [
    "print(data_csv.shape)"
   ]
  },
  {
   "cell_type": "code",
   "execution_count": 9,
   "id": "84f19b5b-a78c-4105-998e-f51ce0f71f0d",
   "metadata": {},
   "outputs": [
    {
     "name": "stdout",
     "output_type": "stream",
     "text": [
      "roll no       int64\n",
      "Name         object\n",
      "Chemistry     int64\n",
      "Physics       int64\n",
      "Math          int64\n",
      "dtype: object\n"
     ]
    }
   ],
   "source": [
    "print(data_csv.dtypes)"
   ]
  },
  {
   "cell_type": "code",
   "execution_count": 11,
   "id": "2d0f5d82-8372-48de-b32f-711c56cd28ae",
   "metadata": {},
   "outputs": [
    {
     "name": "stdout",
     "output_type": "stream",
     "text": [
      "roll no      0\n",
      "Name         0\n",
      "Chemistry    0\n",
      "Physics      0\n",
      "Math         0\n",
      "dtype: int64\n"
     ]
    }
   ],
   "source": [
    "print(data_csv.isnull().sum())"
   ]
  },
  {
   "cell_type": "code",
   "execution_count": 15,
   "id": "d01828a9-806f-46fe-9610-fa5d810618aa",
   "metadata": {},
   "outputs": [
    {
     "name": "stdout",
     "output_type": "stream",
     "text": [
      "         roll no  Chemistry    Physics       Math\n",
      "count   50.00000  50.000000  50.000000  50.000000\n",
      "mean   125.50000  68.420000  65.060000  77.360000\n",
      "std     14.57738  14.116266  22.676437  14.789351\n",
      "min    101.00000  45.000000  23.000000  45.000000\n",
      "25%    113.25000  56.250000  47.500000  71.250000\n",
      "50%    125.50000  68.500000  73.500000  79.000000\n",
      "75%    137.75000  80.750000  82.750000  88.750000\n",
      "max    150.00000  92.000000  92.000000  98.000000\n",
      "          roll no Name  Chemistry    Physics       Math\n",
      "count    50.00000   50  50.000000  50.000000  50.000000\n",
      "unique        NaN   49        NaN        NaN        NaN\n",
      "top           NaN  Ali        NaN        NaN        NaN\n",
      "freq          NaN    2        NaN        NaN        NaN\n",
      "mean    125.50000  NaN  68.420000  65.060000  77.360000\n",
      "std      14.57738  NaN  14.116266  22.676437  14.789351\n",
      "min     101.00000  NaN  45.000000  23.000000  45.000000\n",
      "25%     113.25000  NaN  56.250000  47.500000  71.250000\n",
      "50%     125.50000  NaN  68.500000  73.500000  79.000000\n",
      "75%     137.75000  NaN  80.750000  82.750000  88.750000\n",
      "max     150.00000  NaN  92.000000  92.000000  98.000000\n"
     ]
    }
   ],
   "source": [
    "summary_stats = data_csv.describe()\n",
    "summary_stats_all = data_csv.describe(include='all')\n",
    "print(summary_stats)\n",
    "print(summary_stats_all)"
   ]
  },
  {
   "cell_type": "code",
   "execution_count": 17,
   "id": "9d08abbb-a6e3-49e5-a626-0c8cd0200ef2",
   "metadata": {},
   "outputs": [
    {
     "ename": "KeyError",
     "evalue": "\"None of [Index(['column1', 'column2'], dtype='object')] are in the [columns]\"",
     "output_type": "error",
     "traceback": [
      "\u001b[1;31m---------------------------------------------------------------------------\u001b[0m",
      "\u001b[1;31mKeyError\u001b[0m                                  Traceback (most recent call last)",
      "Cell \u001b[1;32mIn[17], line 1\u001b[0m\n\u001b[1;32m----> 1\u001b[0m selected_columns \u001b[38;5;241m=\u001b[39m data_csv[[\u001b[38;5;124m'\u001b[39m\u001b[38;5;124mcolumn1\u001b[39m\u001b[38;5;124m'\u001b[39m, \u001b[38;5;124m'\u001b[39m\u001b[38;5;124mcolumn2\u001b[39m\u001b[38;5;124m'\u001b[39m]]\n",
      "File \u001b[1;32m~\\anaconda3\\Lib\\site-packages\\pandas\\core\\frame.py:4108\u001b[0m, in \u001b[0;36mDataFrame.__getitem__\u001b[1;34m(self, key)\u001b[0m\n\u001b[0;32m   4106\u001b[0m     \u001b[38;5;28;01mif\u001b[39;00m is_iterator(key):\n\u001b[0;32m   4107\u001b[0m         key \u001b[38;5;241m=\u001b[39m \u001b[38;5;28mlist\u001b[39m(key)\n\u001b[1;32m-> 4108\u001b[0m     indexer \u001b[38;5;241m=\u001b[39m \u001b[38;5;28mself\u001b[39m\u001b[38;5;241m.\u001b[39mcolumns\u001b[38;5;241m.\u001b[39m_get_indexer_strict(key, \u001b[38;5;124m\"\u001b[39m\u001b[38;5;124mcolumns\u001b[39m\u001b[38;5;124m\"\u001b[39m)[\u001b[38;5;241m1\u001b[39m]\n\u001b[0;32m   4110\u001b[0m \u001b[38;5;66;03m# take() does not accept boolean indexers\u001b[39;00m\n\u001b[0;32m   4111\u001b[0m \u001b[38;5;28;01mif\u001b[39;00m \u001b[38;5;28mgetattr\u001b[39m(indexer, \u001b[38;5;124m\"\u001b[39m\u001b[38;5;124mdtype\u001b[39m\u001b[38;5;124m\"\u001b[39m, \u001b[38;5;28;01mNone\u001b[39;00m) \u001b[38;5;241m==\u001b[39m \u001b[38;5;28mbool\u001b[39m:\n",
      "File \u001b[1;32m~\\anaconda3\\Lib\\site-packages\\pandas\\core\\indexes\\base.py:6200\u001b[0m, in \u001b[0;36mIndex._get_indexer_strict\u001b[1;34m(self, key, axis_name)\u001b[0m\n\u001b[0;32m   6197\u001b[0m \u001b[38;5;28;01melse\u001b[39;00m:\n\u001b[0;32m   6198\u001b[0m     keyarr, indexer, new_indexer \u001b[38;5;241m=\u001b[39m \u001b[38;5;28mself\u001b[39m\u001b[38;5;241m.\u001b[39m_reindex_non_unique(keyarr)\n\u001b[1;32m-> 6200\u001b[0m \u001b[38;5;28mself\u001b[39m\u001b[38;5;241m.\u001b[39m_raise_if_missing(keyarr, indexer, axis_name)\n\u001b[0;32m   6202\u001b[0m keyarr \u001b[38;5;241m=\u001b[39m \u001b[38;5;28mself\u001b[39m\u001b[38;5;241m.\u001b[39mtake(indexer)\n\u001b[0;32m   6203\u001b[0m \u001b[38;5;28;01mif\u001b[39;00m \u001b[38;5;28misinstance\u001b[39m(key, Index):\n\u001b[0;32m   6204\u001b[0m     \u001b[38;5;66;03m# GH 42790 - Preserve name from an Index\u001b[39;00m\n",
      "File \u001b[1;32m~\\anaconda3\\Lib\\site-packages\\pandas\\core\\indexes\\base.py:6249\u001b[0m, in \u001b[0;36mIndex._raise_if_missing\u001b[1;34m(self, key, indexer, axis_name)\u001b[0m\n\u001b[0;32m   6247\u001b[0m \u001b[38;5;28;01mif\u001b[39;00m nmissing:\n\u001b[0;32m   6248\u001b[0m     \u001b[38;5;28;01mif\u001b[39;00m nmissing \u001b[38;5;241m==\u001b[39m \u001b[38;5;28mlen\u001b[39m(indexer):\n\u001b[1;32m-> 6249\u001b[0m         \u001b[38;5;28;01mraise\u001b[39;00m \u001b[38;5;167;01mKeyError\u001b[39;00m(\u001b[38;5;124mf\u001b[39m\u001b[38;5;124m\"\u001b[39m\u001b[38;5;124mNone of [\u001b[39m\u001b[38;5;132;01m{\u001b[39;00mkey\u001b[38;5;132;01m}\u001b[39;00m\u001b[38;5;124m] are in the [\u001b[39m\u001b[38;5;132;01m{\u001b[39;00maxis_name\u001b[38;5;132;01m}\u001b[39;00m\u001b[38;5;124m]\u001b[39m\u001b[38;5;124m\"\u001b[39m)\n\u001b[0;32m   6251\u001b[0m     not_found \u001b[38;5;241m=\u001b[39m \u001b[38;5;28mlist\u001b[39m(ensure_index(key)[missing_mask\u001b[38;5;241m.\u001b[39mnonzero()[\u001b[38;5;241m0\u001b[39m]]\u001b[38;5;241m.\u001b[39munique())\n\u001b[0;32m   6252\u001b[0m     \u001b[38;5;28;01mraise\u001b[39;00m \u001b[38;5;167;01mKeyError\u001b[39;00m(\u001b[38;5;124mf\u001b[39m\u001b[38;5;124m\"\u001b[39m\u001b[38;5;132;01m{\u001b[39;00mnot_found\u001b[38;5;132;01m}\u001b[39;00m\u001b[38;5;124m not in index\u001b[39m\u001b[38;5;124m\"\u001b[39m)\n",
      "\u001b[1;31mKeyError\u001b[0m: \"None of [Index(['column1', 'column2'], dtype='object')] are in the [columns]\""
     ]
    }
   ],
   "source": []
  },
  {
   "cell_type": "code",
   "execution_count": null,
   "id": "0930bb0d-cd9c-4542-ab57-2dba32c9d256",
   "metadata": {},
   "outputs": [],
   "source": []
  }
 ],
 "metadata": {
  "kernelspec": {
   "display_name": "Python 3 (ipykernel)",
   "language": "python",
   "name": "python3"
  },
  "language_info": {
   "codemirror_mode": {
    "name": "ipython",
    "version": 3
   },
   "file_extension": ".py",
   "mimetype": "text/x-python",
   "name": "python",
   "nbconvert_exporter": "python",
   "pygments_lexer": "ipython3",
   "version": "3.12.4"
  }
 },
 "nbformat": 4,
 "nbformat_minor": 5
}
